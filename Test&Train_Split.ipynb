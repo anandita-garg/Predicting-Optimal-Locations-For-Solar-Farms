{
  "nbformat": 4,
  "nbformat_minor": 0,
  "metadata": {
    "colab": {
      "provenance": [],
      "authorship_tag": "ABX9TyPosy+l2T4iqDC6UVCVVG8a",
      "include_colab_link": true
    },
    "kernelspec": {
      "name": "python3",
      "display_name": "Python 3"
    },
    "language_info": {
      "name": "python"
    }
  },
  "cells": [
    {
      "cell_type": "markdown",
      "metadata": {
        "id": "view-in-github",
        "colab_type": "text"
      },
      "source": [
        "<a href=\"https://colab.research.google.com/github/anandita-garg/Predicting-Optimal-Locations-For-Solar-Farms/blob/main/Test%26Train_Split.ipynb\" target=\"_parent\"><img src=\"https://colab.research.google.com/assets/colab-badge.svg\" alt=\"Open In Colab\"/></a>"
      ]
    },
    {
      "cell_type": "code",
      "execution_count": null,
      "metadata": {
        "id": "lp-vvL6Sxsz6"
      },
      "outputs": [],
      "source": [
        "import pandas as pd\n",
        "from sklearn.utils import shuffle\n",
        "\n",
        "df = pd.read_csv('test.csv')\n",
        "\n",
        "df['Suitability Score'] = pd.to_numeric(df['Suitability Score'], errors='coerce')\n",
        "df['Year Commissioned'] = pd.to_numeric(df['Year Commissioned'], errors='coerce')\n",
        "\n",
        "df = df.dropna(subset=['Suitability Score', 'Year Commissioned'])\n",
        "\n",
        "solar_farms = df[df['Suitability Score'] == 1]\n",
        "non_solar = df[df['Suitability Score'] != 1]\n",
        "\n",
        "pre_2018_solar = solar_farms[solar_farms['Year Commissioned'] < [insert year]]\n",
        "post_2018_solar = solar_farms[solar_farms['Year Commissioned'] >= [insert year]]\n",
        "\n",
        "train_solar = pre_2018_solar.sample(n=[insertnumber], random_state=42)\n",
        "train_non_solar = non_solar.sample(n=[insert number], random_state=42)\n",
        "\n",
        "# Test set: All solar farms from 2018 and after + remaining non-solar\n",
        "test_solar = post_2018_solar  # All solar farms from 2018 and after\n",
        "test_non_solar = non_solar.drop(train_non_solar.index)  # Remaining non-solar for test\n",
        "\n",
        "# Combine for train and test sets\n",
        "train_set = pd.concat([train_solar, train_non_solar]).reset_index(drop=True)\n",
        "test_set = pd.concat([test_solar, test_non_solar]).reset_index(drop=True)\n",
        "\n",
        "# Shuffle\n",
        "train_set = shuffle(train_set, random_state=42)\n",
        "test_set = shuffle(test_set, random_state=42)\n",
        "\n",
        "# Save to CSV\n",
        "train_set.to_csv('train_set.csv', index=False)\n",
        "test_set.to_csv('test_set.csv', index=False)\n",
        "\n",
        "# Summary\n",
        "print(f\"Train set size: {train_set.shape}\")\n",
        "print(f\"Test set size: {test_set.shape}\")\n",
        "print(f\"Solar farms in train set: {(train_set['Suitability Score'] == 1).sum()}\")\n",
        "print(f\"Solar farms in test set: {(test_set['Suitability Score'] == 1).sum()}\")\n"
      ]
    }
  ]
}