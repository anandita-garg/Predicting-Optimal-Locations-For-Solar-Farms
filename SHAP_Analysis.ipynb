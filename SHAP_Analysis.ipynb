{
  "nbformat": 4,
  "nbformat_minor": 0,
  "metadata": {
    "colab": {
      "provenance": [],
      "authorship_tag": "ABX9TyOjBJpZSAYpsqJMYPlqxRvV",
      "include_colab_link": true
    },
    "kernelspec": {
      "name": "python3",
      "display_name": "Python 3"
    },
    "language_info": {
      "name": "python"
    }
  },
  "cells": [
    {
      "cell_type": "markdown",
      "metadata": {
        "id": "view-in-github",
        "colab_type": "text"
      },
      "source": [
        "<a href=\"https://colab.research.google.com/github/anandita-garg/Predicting-Optimal-Locations-For-Solar-Farms/blob/main/SHAP_Analysis.ipynb\" target=\"_parent\"><img src=\"https://colab.research.google.com/assets/colab-badge.svg\" alt=\"Open In Colab\"/></a>"
      ]
    },
    {
      "cell_type": "code",
      "execution_count": null,
      "metadata": {
        "id": "RvDXUqM-0IUp"
      },
      "outputs": [],
      "source": [
        "import shap\n",
        "\n",
        "explainer = shap.TreeExplainer(final_model)\n",
        "shap_values = explainer.shap_values(X_test)\n",
        "print(\"shap_values\")\n",
        "shap.summary_plot(shap_values, X_test)\n",
        "\n",
        "shap_values_explanation = shap.Explanation(shap_values[0],\n",
        "                                           feature_names=X_test.columns,\n",
        "                                           data=X_test.iloc[0].values,\n",
        "                                           base_values=explainer.expected_value)\n",
        "\n",
        "shap.plots.waterfall(shap_values_explanation)\n",
        "\n",
        "import numpy as np\n",
        "import pandas as pd\n",
        "\n",
        "mean_abs_shap = np.abs(shap_values).mean(axis=0)\n",
        "\n",
        "importance_percent = 100 * mean_abs_shap / mean_abs_shap.sum()\n",
        "\n",
        "importance_df = pd.DataFrame({\n",
        "    'Feature': X_test.columns,\n",
        "    'Importance (%)': importance_percent\n",
        "}).sort_values(by='Importance (%)', ascending=False).reset_index(drop=True)\n",
        "\n",
        "print(importance_df)\n"
      ]
    },
    {
      "cell_type": "code",
      "source": [
        "import shap\n",
        "import matplotlib.pyplot as plt\n",
        "import pandas as pd\n",
        "import os\n",
        "\n",
        "\n",
        "feature_columns = X_test.columns\n",
        "misclassified_features = misclassified_combined[feature_columns]\n",
        "\n",
        "explainer = shap.Explainer(final_model, X_train)\n",
        "\n",
        "shap_values = explainer(misclassified_features)\n",
        "\n",
        "output_dir = \"shap_misclassified_plots\"\n",
        "os.makedirs(output_dir, exist_ok=True)\n",
        "\n",
        "for i in range(len(misclassified_combined)):\n",
        "    mis_type = misclassified_combined.iloc[i]['Misclassification']\n",
        "    filename = f\"{output_dir}/Point_{i+1}_{mis_type.replace(' ', '_').replace('/', '_')}.png\"\n",
        "\n",
        "    plt.figure()\n",
        "    shap.plots.waterfall(shap_values[i], show=False)\n",
        "    plt.title(f\"Explanation for Point {i+1} ({mis_type})\")\n",
        "    plt.tight_layout()\n",
        "    plt.savefig(filename)\n",
        "    plt.close()\n",
        "\n",
        "print(f\"Saved {len(misclassified_combined)} SHAP waterfall plots in '{output_dir}' folder.\")"
      ],
      "metadata": {
        "id": "65tSMuvX0L2b"
      },
      "execution_count": null,
      "outputs": []
    },
    {
      "cell_type": "code",
      "source": [
        "import pandas as pd\n",
        "import shap\n",
        "import matplotlib.pyplot as plt\n",
        "import os\n",
        "\n",
        "\n",
        "misclassified_df = pd.read_csv(\"misclassified_points.csv\")\n",
        "features = [col for col in misclassified_df.columns if col not in ['Suitability Score', 'Predicted Score', 'Misclassification']]\n",
        "\n",
        "X_misclassified = misclassified_df[features]\n",
        "misclassification_types = misclassified_df['Misclassification'].values\n",
        "\n",
        "\n",
        "shap_values = explainer(X_misclassified)\n",
        "\n",
        "\n",
        "explanations = []\n",
        "\n",
        "for i in range(len(X_misclassified)):\n",
        "    shap_row = shap_values[i]\n",
        "    pred = misclassified_df.iloc[i]['Predicted Score']\n",
        "    actual = misclassified_df.iloc[i]['Suitability Score']\n",
        "    misclass_type = misclassified_df.iloc[i]['Misclassification']\n",
        "\n",
        "    contributions = list(zip(shap_row.values, shap_row.data, shap_row.feature_names))\n",
        "    contributions.sort(key=lambda x: abs(x[0]), reverse=True)\n",
        "    top_features = contributions[:5]\n",
        "\n",
        "    text_lines = [\n",
        "        f\"### Explanation for Point {i+1} ({misclass_type})\",\n",
        "        f\"🔹 AHP Score: {actual:.3f} → Model Prediction: {pred:.3f}\",\n",
        "        f\"Top contributing features:\"\n",
        "    ]\n",
        "\n",
        "    for shap_val, feat_val, feat_name in top_features:\n",
        "        direction = \"↑ increased\" if shap_val > 0 else \"↓ decreased\"\n",
        "        text_lines.append(f\" - {feat_name} = {feat_val} → {direction} prediction by {abs(shap_val):.3f}\")\n",
        "\n",
        "    explanations.append(\"\\n\".join(text_lines))\n",
        "\n",
        "\n",
        "with open(\"shap_explanations.txt\", \"w\") as f:\n",
        "    f.write(\"\\n\\n\".join(explanations))\n",
        "\n",
        "print(\"SHAP explanations saved to 'shap_explanations.txt'.\")\n",
        "\n",
        "\n",
        "shap_df = pd.DataFrame(shap_values.values, columns=features)\n",
        "shap_df['Misclassification'] = misclassified_df['Misclassification'].values\n",
        "shap_df['Predicted'] = misclassified_df['Predicted Score'].values\n",
        "shap_df['Actual'] = misclassified_df['Suitability Score'].values\n",
        "shap_df.to_csv(\"shap_values_misclassified.csv\", index=False)\n",
        "print(\"SHAP values saved to 'shap_values_misclassified.csv'.\")\n",
        "\n",
        "\n",
        "output_dir = \"shap_waterfall_plots\"\n",
        "os.makedirs(output_dir, exist_ok=True)\n",
        "\n",
        "for i in range(len(X_misclassified)):\n",
        "    plt.figure()\n",
        "    shap.plots.waterfall(shap_values[i], show=False)\n",
        "    plt.title(f\"Point {i+1} ({misclassification_types[i]})\")\n",
        "    plt.savefig(f\"{output_dir}/point_{i+1}.png\", bbox_inches='tight')\n",
        "    plt.close()\n",
        "\n",
        "print(f\"Waterfall plots saved to '{output_dir}/'\")"
      ],
      "metadata": {
        "id": "yRmMTzkH0OJy"
      },
      "execution_count": null,
      "outputs": []
    }
  ]
}